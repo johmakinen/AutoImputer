{
 "cells": [
  {
   "cell_type": "code",
   "execution_count": 75,
   "metadata": {},
   "outputs": [],
   "source": [
    "from sklearn import datasets\n",
    "import pandas as pd\n",
    "import numpy as np\n",
    "# import some data to play with\n",
    "iris = datasets.load_iris()\n",
    "import random\n",
    "import os\n",
    "from sklearn.preprocessing import LabelEncoder"
   ]
  },
  {
   "cell_type": "code",
   "execution_count": 76,
   "metadata": {},
   "outputs": [],
   "source": [
    "def get_test_data_single_col():\n",
    "    \"\"\"Creates test dataframes and imputes the missing values\"\"\"\n",
    "    test_set = []\n",
    "    for size in range(20,100,10):\n",
    "        col_names = list('ABCDEFGHIJKLMNOPQRSTUVWXYZ')[:10]\n",
    "        rand_col = random.choice(col_names)\n",
    "        curr_df = pd.DataFrame(np.random.randint(-50,100,size=(size,10)), columns=col_names)\n",
    "        curr_df.loc[curr_df.sample(np.random.randint(5,int(size*0.4)), random_state=32).index,rand_col] = np.nan\n",
    "        test_set.append((curr_df,rand_col,curr_df[rand_col].mean(skipna=True)))\n",
    "\n",
    "    # for i in range(test_n):\n",
    "    #     test_set.append((np.array(test_vectors[i,:],dtype='complex'),np.fft.fft(test_vectors[i,:]).reshape((-1,1))))\n",
    "    # return [(np.array(test_vectors[0,:],dtype='complex'),np.fft.fft(test_vectors[0,:]).reshape((-1,1)))]\n",
    "    return test_set"
   ]
  },
  {
   "cell_type": "code",
   "execution_count": 77,
   "metadata": {},
   "outputs": [
    {
     "data": {
      "text/plain": [
       "0.717742857142857"
      ]
     },
     "execution_count": 77,
     "metadata": {},
     "output_type": "execute_result"
    }
   ],
   "source": [
    "from sklearn.impute import SimpleImputer\n",
    "from sklearn.metrics import mean_absolute_percentage_error,mean_squared_error\n",
    "import pandas as pd\n",
    "import numpy as np\n",
    "import random\n",
    "\n",
    "# x = get_test_data_single_col()\n",
    "# df = x[0][0]\n",
    "# curr_df = df.dropna(axis=0,how='any').copy()\n",
    "# path_project = os.path.abspath(\n",
    "# os.path.join(__file__, \"../..\"))\n",
    "# path_processed_data = +'/data/processed/'\n",
    "# path_raw_data = path_project+'/data/raw/'\n",
    "curr_df = pd.read_csv('..\\data\\processed\\iris_original.csv')\n",
    "\n",
    "class MySimpleImputer():\n",
    "    def __init__(self,target_col,**kwargs):\n",
    "        self.target_col = target_col\n",
    "        self.strategy = kwargs.get('strategy','mean')\n",
    "\n",
    "    def impute(self,df):\n",
    "        imp = SimpleImputer(missing_values=np.nan, strategy=self.strategy)\n",
    "        if self.target_col == 'ALL':\n",
    "            idf = pd.DataFrame(imp.fit_transform(df))\n",
    "            idf.columns = df.columns\n",
    "            idf.index = df.index\n",
    "        else:\n",
    "            idf = df.copy()\n",
    "            imp.fit(idf[self.target_col].values.reshape(-1, 1))\n",
    "            idf[self.target_col] = imp.transform(idf[self.target_col].values.reshape(-1, 1))\n",
    "        return idf\n",
    "imputer = MySimpleImputer(target_col='sepal length (cm)')        \n",
    "nans = curr_df.mask((np.random.random(curr_df.shape)<.4) & (curr_df.columns == imputer.target_col))\n",
    "target = curr_df[nans[imputer.target_col].isna()][imputer.target_col].values\n",
    "res = imputer.impute(nans)\n",
    "res_values = res[nans[imputer.target_col].isna()][imputer.target_col].values\n",
    "mean_squared_error(target,res_values,squared=True)"
   ]
  },
  {
   "cell_type": "code",
   "execution_count": 78,
   "metadata": {},
   "outputs": [],
   "source": [
    "def replace_infs(df):\n",
    "    \"\"\"Replaces infinities with min/max of the column\n",
    "\n",
    "    Parameters\n",
    "    ----------\n",
    "    df : pd.DataFrame\n",
    "        Input data\n",
    "\n",
    "    Returns\n",
    "    -------\n",
    "    pd.DataFrame\n",
    "    \"\"\"\n",
    "    m1 = df.eq(np.inf)\n",
    "    m2 = df.eq(-np.inf)\n",
    "    df = df.mask(m1, df[~m1].max(), axis=1).mask(m2, df[~m2].min(), axis=1)\n",
    "    return df"
   ]
  },
  {
   "cell_type": "code",
   "execution_count": 79,
   "metadata": {},
   "outputs": [],
   "source": [
    "nans = curr_df.mask((np.random.random(curr_df.shape)<.4))\n",
    "imputer = MySimpleImputer(target_col='ALL')\n",
    "res = imputer.impute(nans)"
   ]
  },
  {
   "cell_type": "code",
   "execution_count": 80,
   "metadata": {},
   "outputs": [
    {
     "data": {
      "text/html": [
       "<div>\n",
       "<style scoped>\n",
       "    .dataframe tbody tr th:only-of-type {\n",
       "        vertical-align: middle;\n",
       "    }\n",
       "\n",
       "    .dataframe tbody tr th {\n",
       "        vertical-align: top;\n",
       "    }\n",
       "\n",
       "    .dataframe thead th {\n",
       "        text-align: right;\n",
       "    }\n",
       "</style>\n",
       "<table border=\"1\" class=\"dataframe\">\n",
       "  <thead>\n",
       "    <tr style=\"text-align: right;\">\n",
       "      <th></th>\n",
       "      <th>sepal length (cm)</th>\n",
       "      <th>sepal width (cm)</th>\n",
       "      <th>petal length (cm)</th>\n",
       "      <th>petal width (cm)</th>\n",
       "      <th>target</th>\n",
       "    </tr>\n",
       "  </thead>\n",
       "  <tbody>\n",
       "    <tr>\n",
       "      <th>0</th>\n",
       "      <td>5.1</td>\n",
       "      <td>3.5</td>\n",
       "      <td>1.4</td>\n",
       "      <td>0.2</td>\n",
       "      <td>0.0</td>\n",
       "    </tr>\n",
       "    <tr>\n",
       "      <th>1</th>\n",
       "      <td>4.9</td>\n",
       "      <td>3.0</td>\n",
       "      <td>1.4</td>\n",
       "      <td>0.2</td>\n",
       "      <td>0.0</td>\n",
       "    </tr>\n",
       "    <tr>\n",
       "      <th>2</th>\n",
       "      <td>4.7</td>\n",
       "      <td>3.2</td>\n",
       "      <td>1.3</td>\n",
       "      <td>0.2</td>\n",
       "      <td>0.0</td>\n",
       "    </tr>\n",
       "    <tr>\n",
       "      <th>3</th>\n",
       "      <td>4.6</td>\n",
       "      <td>3.1</td>\n",
       "      <td>1.5</td>\n",
       "      <td>0.2</td>\n",
       "      <td>0.0</td>\n",
       "    </tr>\n",
       "    <tr>\n",
       "      <th>4</th>\n",
       "      <td>5.0</td>\n",
       "      <td>3.6</td>\n",
       "      <td>1.4</td>\n",
       "      <td>0.2</td>\n",
       "      <td>0.0</td>\n",
       "    </tr>\n",
       "    <tr>\n",
       "      <th>...</th>\n",
       "      <td>...</td>\n",
       "      <td>...</td>\n",
       "      <td>...</td>\n",
       "      <td>...</td>\n",
       "      <td>...</td>\n",
       "    </tr>\n",
       "    <tr>\n",
       "      <th>145</th>\n",
       "      <td>6.7</td>\n",
       "      <td>3.0</td>\n",
       "      <td>5.2</td>\n",
       "      <td>2.3</td>\n",
       "      <td>2.0</td>\n",
       "    </tr>\n",
       "    <tr>\n",
       "      <th>146</th>\n",
       "      <td>6.3</td>\n",
       "      <td>2.5</td>\n",
       "      <td>5.0</td>\n",
       "      <td>1.9</td>\n",
       "      <td>2.0</td>\n",
       "    </tr>\n",
       "    <tr>\n",
       "      <th>147</th>\n",
       "      <td>6.5</td>\n",
       "      <td>3.0</td>\n",
       "      <td>5.2</td>\n",
       "      <td>2.0</td>\n",
       "      <td>2.0</td>\n",
       "    </tr>\n",
       "    <tr>\n",
       "      <th>148</th>\n",
       "      <td>6.2</td>\n",
       "      <td>3.4</td>\n",
       "      <td>5.4</td>\n",
       "      <td>2.3</td>\n",
       "      <td>2.0</td>\n",
       "    </tr>\n",
       "    <tr>\n",
       "      <th>149</th>\n",
       "      <td>5.9</td>\n",
       "      <td>3.0</td>\n",
       "      <td>5.1</td>\n",
       "      <td>1.8</td>\n",
       "      <td>2.0</td>\n",
       "    </tr>\n",
       "  </tbody>\n",
       "</table>\n",
       "<p>150 rows × 5 columns</p>\n",
       "</div>"
      ],
      "text/plain": [
       "     sepal length (cm)  sepal width (cm)  petal length (cm)  petal width (cm)  \\\n",
       "0                  5.1               3.5                1.4               0.2   \n",
       "1                  4.9               3.0                1.4               0.2   \n",
       "2                  4.7               3.2                1.3               0.2   \n",
       "3                  4.6               3.1                1.5               0.2   \n",
       "4                  5.0               3.6                1.4               0.2   \n",
       "..                 ...               ...                ...               ...   \n",
       "145                6.7               3.0                5.2               2.3   \n",
       "146                6.3               2.5                5.0               1.9   \n",
       "147                6.5               3.0                5.2               2.0   \n",
       "148                6.2               3.4                5.4               2.3   \n",
       "149                5.9               3.0                5.1               1.8   \n",
       "\n",
       "     target  \n",
       "0       0.0  \n",
       "1       0.0  \n",
       "2       0.0  \n",
       "3       0.0  \n",
       "4       0.0  \n",
       "..      ...  \n",
       "145     2.0  \n",
       "146     2.0  \n",
       "147     2.0  \n",
       "148     2.0  \n",
       "149     2.0  \n",
       "\n",
       "[150 rows x 5 columns]"
      ]
     },
     "execution_count": 80,
     "metadata": {},
     "output_type": "execute_result"
    }
   ],
   "source": [
    "curr_df"
   ]
  },
  {
   "cell_type": "code",
   "execution_count": 115,
   "metadata": {},
   "outputs": [],
   "source": [
    "curr_df['target'] = curr_df['target']\n",
    "le = LabelEncoder()\n",
    "curr_df['target'] = le.fit_transform(curr_df['target'])\n",
    "# Dummify rest categorical cols\n",
    "df_target_col = pd.concat([curr_df.drop('target',axis=1), pd.get_dummies(curr_df['target']).astype('category')], axis=1)"
   ]
  },
  {
   "cell_type": "code",
   "execution_count": 116,
   "metadata": {},
   "outputs": [
    {
     "data": {
      "text/plain": [
       "sepal length (cm)     float64\n",
       "sepal width (cm)      float64\n",
       "petal length (cm)     float64\n",
       "petal width (cm)      float64\n",
       "0                    category\n",
       "1                    category\n",
       "2                    category\n",
       "dtype: object"
      ]
     },
     "execution_count": 116,
     "metadata": {},
     "output_type": "execute_result"
    }
   ],
   "source": [
    "df_target_col.dtypes"
   ]
  },
  {
   "cell_type": "code",
   "execution_count": null,
   "metadata": {},
   "outputs": [],
   "source": []
  },
  {
   "cell_type": "code",
   "execution_count": null,
   "metadata": {},
   "outputs": [],
   "source": []
  },
  {
   "cell_type": "code",
   "execution_count": 61,
   "metadata": {},
   "outputs": [
    {
     "data": {
      "text/html": [
       "<div>\n",
       "<style scoped>\n",
       "    .dataframe tbody tr th:only-of-type {\n",
       "        vertical-align: middle;\n",
       "    }\n",
       "\n",
       "    .dataframe tbody tr th {\n",
       "        vertical-align: top;\n",
       "    }\n",
       "\n",
       "    .dataframe thead th {\n",
       "        text-align: right;\n",
       "    }\n",
       "</style>\n",
       "<table border=\"1\" class=\"dataframe\">\n",
       "  <thead>\n",
       "    <tr style=\"text-align: right;\">\n",
       "      <th></th>\n",
       "      <th>sepal length (cm)</th>\n",
       "      <th>sepal width (cm)</th>\n",
       "      <th>petal length (cm)</th>\n",
       "      <th>petal width (cm)</th>\n",
       "      <th>target</th>\n",
       "    </tr>\n",
       "  </thead>\n",
       "  <tbody>\n",
       "    <tr>\n",
       "      <th>0</th>\n",
       "      <td>0.990229</td>\n",
       "      <td>0.982495</td>\n",
       "      <td>1.001646</td>\n",
       "      <td>0.988177</td>\n",
       "      <td>0.991107</td>\n",
       "    </tr>\n",
       "    <tr>\n",
       "      <th>0</th>\n",
       "      <td>0.990229</td>\n",
       "      <td>0.982495</td>\n",
       "      <td>1.001646</td>\n",
       "      <td>0.988177</td>\n",
       "      <td>0.991107</td>\n",
       "    </tr>\n",
       "  </tbody>\n",
       "</table>\n",
       "</div>"
      ],
      "text/plain": [
       "   sepal length (cm)  sepal width (cm)  petal length (cm)  petal width (cm)  \\\n",
       "0           0.990229          0.982495           1.001646          0.988177   \n",
       "0           0.990229          0.982495           1.001646          0.988177   \n",
       "\n",
       "     target  \n",
       "0  0.991107  \n",
       "0  0.991107  "
      ]
     },
     "execution_count": 61,
     "metadata": {},
     "output_type": "execute_result"
    }
   ],
   "source": [
    "# x = pd.DataFrame(((res-curr_df)**2).mean(axis=0)**(1/curr_df.shape[0])).T\n",
    "# y = pd.DataFrame(((res-curr_df)**2).mean(axis=0)**(1/curr_df.shape[0])).T\n",
    "# x = pd.concat([x,y],axis=0)\n",
    "# x"
   ]
  },
  {
   "cell_type": "code",
   "execution_count": 38,
   "metadata": {},
   "outputs": [
    {
     "name": "stdout",
     "output_type": "stream",
     "text": [
      "0.9902286360659346\n",
      "0.9824953305016363\n",
      "1.0016456411186456\n",
      "0.9881767246283486\n",
      "0.9911072841907653\n"
     ]
    }
   ],
   "source": []
  }
 ],
 "metadata": {
  "interpreter": {
   "hash": "db1d983dafd083bf3e2591df4b05cff8242c9272e6d7473b27d3b53a7103024c"
  },
  "kernelspec": {
   "display_name": "Python 3.9.7 ('AutoImputer')",
   "language": "python",
   "name": "python3"
  },
  "language_info": {
   "codemirror_mode": {
    "name": "ipython",
    "version": 3
   },
   "file_extension": ".py",
   "mimetype": "text/x-python",
   "name": "python",
   "nbconvert_exporter": "python",
   "pygments_lexer": "ipython3",
   "version": "3.9.7"
  },
  "orig_nbformat": 4
 },
 "nbformat": 4,
 "nbformat_minor": 2
}
