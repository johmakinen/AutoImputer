{
 "cells": [
  {
   "cell_type": "code",
   "execution_count": 1,
   "metadata": {},
   "outputs": [
    {
     "name": "stdout",
     "output_type": "stream",
     "text": [
      "Importing C:\\Users\\johma\\Desktop\\main\\4fun\\AutoImputer\\src\\models_fn\\imputer_models.py\n",
      "Importing C:\\Users\\johma\\Desktop\\main\\4fun\\AutoImputer\\src\\data_fn\\data_process.py\n"
     ]
    }
   ],
   "source": [
    "from sklearn import datasets\n",
    "import pandas as pd\n",
    "import numpy as np\n",
    "iris = datasets.load_iris()\n",
    "import random\n",
    "import sys\n",
    "import os\n",
    "from pathlib import Path\n",
    "sys.path.append(str(Path.cwd().parent))\n",
    "from src.models_fn.imputer_models import measure_val_error,XGBImputer,MySimpleImputer\n",
    "from src.data_fn.data_process import simulate_missing_values,replace_infs\n",
    "from sklearn.preprocessing import LabelEncoder,OneHotEncoder\n",
    "# from sklearn.metrics import mean_squared_error,f1_score"
   ]
  },
  {
   "cell_type": "code",
   "execution_count": 2,
   "metadata": {},
   "outputs": [],
   "source": [
    "data = pd.read_csv('..\\data\\processed\\iris_original.csv')\n",
    "curr_df = simulate_missing_values(data,output_name=None,prop=0.3)\n",
    "inf_df = curr_df.copy()\n",
    "inf_df['target'] = inf_df['target'].map({0.0:'A',1.0:'B',2.0:'C'})\n",
    "dtypes = [\"numeric\", \"numeric\", \"numeric\", \"numeric\", \"categorical\"]\n",
    "cols = data.columns\n",
    "dtype_list = dict(zip(cols, dtypes))\n",
    "imp1 = MySimpleImputer(dtype_list=dtype_list)\n"
   ]
  },
  {
   "cell_type": "code",
   "execution_count": 5,
   "metadata": {},
   "outputs": [
    {
     "data": {
      "text/plain": [
       "{'sepal length (cm)': 0.52,\n",
       " 'sepal width (cm)': 0.29,\n",
       " 'petal length (cm)': 1.24,\n",
       " 'petal width (cm)': 0.53,\n",
       " 'target': 0.68}"
      ]
     },
     "execution_count": 5,
     "metadata": {},
     "output_type": "execute_result"
    }
   ],
   "source": [
    "measure_val_error(curr_df, imp1, dtype_list, n_folds=5)"
   ]
  },
  {
   "cell_type": "code",
   "execution_count": 29,
   "metadata": {},
   "outputs": [],
   "source": [
    "# def measure_val_error(df, imputer, dtype_list, n_folds=5):\n",
    "#     \"\"\" Computes the possible error of the imputation.\n",
    "#         Uses N-fold subsampling and averages the errors\n",
    "#         over the folds. At the moment only RMSE for all data\n",
    "#         columns is available.\n",
    "\n",
    "\n",
    "#     Parameters\n",
    "#     ----------\n",
    "#     df : pd.DataFrame\n",
    "#         Input data with missing values\n",
    "#     imputer : Custom imputer\n",
    "#         Must have an \"impute\" method, which returns a dataframe. E.g. SimpleImputer()\n",
    "#     dtype_list : dict\n",
    "#         Dict which shows whether a feature is numeric or categorical.\n",
    "#     n_folds : int, optional\n",
    "#         Number of N-folds to perform, by default 5\n",
    "\n",
    "#     Returns\n",
    "#     -------\n",
    "#     dict\n",
    "#         Mean RMSE error for each column as a dict\n",
    "#         For categorical values use ...\n",
    "\n",
    "#     \"\"\"\n",
    "\n",
    "#     curr_df = df.dropna(axis=0, how=\"any\").copy()\n",
    "#     errors = pd.DataFrame(columns=curr_df.columns)\n",
    "#     # n-fold cross validation\n",
    "#     for i in range(n_folds):\n",
    "#         fold_error = pd.DataFrame(0,columns=curr_df.columns,index=range(1))\n",
    "\n",
    "#         nans = curr_df.mask(np.random.random(curr_df.shape) < 0.4)\n",
    "#         res = imputer.impute(nans)\n",
    "\n",
    "#         for curr_col in curr_df.columns:\n",
    "#             if dtype_list[curr_col] == 'numeric':\n",
    "#                 fold_error.loc[0,curr_col] = mean_squared_error(y_true=curr_df[curr_col].values,y_pred=res[curr_col].values,squared=False)\n",
    "#             elif dtype_list[curr_col] == 'categorical':\n",
    "#                 # F1 = 2 * (precision * recall) / (precision + recall)\n",
    "#                 if len(pd.unique(res[curr_col])) > 2:\n",
    "#                     average='micro'\n",
    "#                 else:\n",
    "#                     average = 'binary'\n",
    "#                 fold_error.loc[0,curr_col] = f1_score(y_true=curr_df[curr_col].values,y_pred=res[curr_col].values,average=average)\n",
    "\n",
    "\n",
    "#         # curr_errors = pd.DataFrame(((res - curr_df) ** 2).mean(axis=0) ** (1 / 2)).T\n",
    "#         errors = pd.concat([errors, fold_error], axis=0)\n",
    "\n",
    "#     return pd.DataFrame(errors.mean(axis=0)).round(2).to_dict()[0]"
   ]
  },
  {
   "cell_type": "code",
   "execution_count": 25,
   "metadata": {},
   "outputs": [],
   "source": [
    "# # imp1 = MySimpleImputer(dtype_list=dtype_list)\n",
    "# imp1 = XGBImputer(dtype_list=dtype_list)\n",
    "\n",
    "# curr_df = curr_df.dropna(axis=0, how=\"any\").copy()\n",
    "# errors = pd.DataFrame(columns=curr_df.columns)\n",
    "# # n-fold cross validation\n",
    "# for i in range(2):\n",
    "#     fold_error = pd.DataFrame(0.0,columns=curr_df.columns,index=range(1))\n",
    "\n",
    "#     nans = curr_df.mask(np.random.random(curr_df.shape) < 0.4)\n",
    "#     res = imp1.impute(nans)\n",
    "\n",
    "#     for curr_col in curr_df.columns:\n",
    "#         if dtype_list[curr_col] == 'numeric':\n",
    "#             fold_error.loc[0,curr_col] = mean_squared_error(y_true=curr_df[curr_col].values,y_pred=res[curr_col].values,squared=False)\n",
    "#         elif dtype_list[curr_col] == 'categorical':\n",
    "#             # F1 = 2 * (precision * recall) / (precision + recall)\n",
    "#             if len(pd.unique(res[curr_col])) > 2:\n",
    "#                 average='micro'\n",
    "#             else:\n",
    "#                 average = 'binary'\n",
    "#             fold_error.loc[0,curr_col] = f1_score(y_true=curr_df[curr_col].values,y_pred=res[curr_col].values,average=average)\n",
    "\n",
    "\n",
    "#     # curr_errors = pd.DataFrame(((res - curr_df) ** 2).mean(axis=0) ** (1 / 2)).T\n",
    "#     errors = pd.concat([errors, fold_error], axis=0)"
   ]
  },
  {
   "cell_type": "code",
   "execution_count": 26,
   "metadata": {},
   "outputs": [
    {
     "data": {
      "text/html": [
       "<div>\n",
       "<style scoped>\n",
       "    .dataframe tbody tr th:only-of-type {\n",
       "        vertical-align: middle;\n",
       "    }\n",
       "\n",
       "    .dataframe tbody tr th {\n",
       "        vertical-align: top;\n",
       "    }\n",
       "\n",
       "    .dataframe thead th {\n",
       "        text-align: right;\n",
       "    }\n",
       "</style>\n",
       "<table border=\"1\" class=\"dataframe\">\n",
       "  <thead>\n",
       "    <tr style=\"text-align: right;\">\n",
       "      <th></th>\n",
       "      <th>sepal length (cm)</th>\n",
       "      <th>sepal width (cm)</th>\n",
       "      <th>petal length (cm)</th>\n",
       "      <th>petal width (cm)</th>\n",
       "      <th>target</th>\n",
       "    </tr>\n",
       "  </thead>\n",
       "  <tbody>\n",
       "    <tr>\n",
       "      <th>0</th>\n",
       "      <td>0.894874</td>\n",
       "      <td>0.403961</td>\n",
       "      <td>0.563456</td>\n",
       "      <td>0.214554</td>\n",
       "      <td>0.909091</td>\n",
       "    </tr>\n",
       "    <tr>\n",
       "      <th>0</th>\n",
       "      <td>0.429046</td>\n",
       "      <td>0.337993</td>\n",
       "      <td>0.505047</td>\n",
       "      <td>0.440637</td>\n",
       "      <td>0.772727</td>\n",
       "    </tr>\n",
       "  </tbody>\n",
       "</table>\n",
       "</div>"
      ],
      "text/plain": [
       "  sepal length (cm) sepal width (cm) petal length (cm) petal width (cm)  \\\n",
       "0          0.894874         0.403961          0.563456         0.214554   \n",
       "0          0.429046         0.337993          0.505047         0.440637   \n",
       "\n",
       "     target  \n",
       "0  0.909091  \n",
       "0  0.772727  "
      ]
     },
     "execution_count": 26,
     "metadata": {},
     "output_type": "execute_result"
    }
   ],
   "source": [
    "# curr_df[curr_col].values\n",
    "# res[curr_col].values\n",
    "# nans[curr_col]\n",
    "# nans\n",
    "# imp1.impute(nans)\n",
    "# f1_score(y_true=curr_df[curr_col].values,y_pred=res[curr_col].values,average=average)\n",
    "\n",
    "# curr_df.columns\n",
    "# col = 'sepal length (cm)'\n",
    "# mean_squared_error(y_true=curr_df[col].values,y_pred=res[col].values,squared=False)\n",
    "# fold_error\n",
    "# dtype_list\n",
    "# errors"
   ]
  },
  {
   "cell_type": "code",
   "execution_count": 30,
   "metadata": {},
   "outputs": [
    {
     "data": {
      "text/plain": [
       "{'sepal length (cm)': 0.44,\n",
       " 'sepal width (cm)': 0.31,\n",
       " 'petal length (cm)': 1.29,\n",
       " 'petal width (cm)': 0.51,\n",
       " 'target': 0.65}"
      ]
     },
     "execution_count": 30,
     "metadata": {},
     "output_type": "execute_result"
    }
   ],
   "source": []
  },
  {
   "cell_type": "code",
   "execution_count": null,
   "metadata": {},
   "outputs": [],
   "source": []
  },
  {
   "cell_type": "code",
   "execution_count": null,
   "metadata": {},
   "outputs": [],
   "source": []
  },
  {
   "cell_type": "code",
   "execution_count": 5,
   "metadata": {},
   "outputs": [
    {
     "data": {
      "text/html": [
       "<div>\n",
       "<style scoped>\n",
       "    .dataframe tbody tr th:only-of-type {\n",
       "        vertical-align: middle;\n",
       "    }\n",
       "\n",
       "    .dataframe tbody tr th {\n",
       "        vertical-align: top;\n",
       "    }\n",
       "\n",
       "    .dataframe thead th {\n",
       "        text-align: right;\n",
       "    }\n",
       "</style>\n",
       "<table border=\"1\" class=\"dataframe\">\n",
       "  <thead>\n",
       "    <tr style=\"text-align: right;\">\n",
       "      <th></th>\n",
       "      <th>sepal length (cm)</th>\n",
       "      <th>sepal width (cm)</th>\n",
       "      <th>petal length (cm)</th>\n",
       "      <th>petal width (cm)</th>\n",
       "      <th>target</th>\n",
       "    </tr>\n",
       "  </thead>\n",
       "  <tbody>\n",
       "    <tr>\n",
       "      <th>0</th>\n",
       "      <td>5.100000</td>\n",
       "      <td>3.5</td>\n",
       "      <td>1.400000</td>\n",
       "      <td>1.183784</td>\n",
       "      <td>A</td>\n",
       "    </tr>\n",
       "    <tr>\n",
       "      <th>1</th>\n",
       "      <td>4.900000</td>\n",
       "      <td>3.0</td>\n",
       "      <td>1.400000</td>\n",
       "      <td>1.183784</td>\n",
       "      <td>A</td>\n",
       "    </tr>\n",
       "    <tr>\n",
       "      <th>2</th>\n",
       "      <td>5.882243</td>\n",
       "      <td>3.2</td>\n",
       "      <td>3.844545</td>\n",
       "      <td>1.183784</td>\n",
       "      <td>C</td>\n",
       "    </tr>\n",
       "    <tr>\n",
       "      <th>3</th>\n",
       "      <td>4.600000</td>\n",
       "      <td>3.1</td>\n",
       "      <td>1.500000</td>\n",
       "      <td>1.183784</td>\n",
       "      <td>C</td>\n",
       "    </tr>\n",
       "    <tr>\n",
       "      <th>4</th>\n",
       "      <td>5.882243</td>\n",
       "      <td>3.6</td>\n",
       "      <td>3.844545</td>\n",
       "      <td>0.200000</td>\n",
       "      <td>A</td>\n",
       "    </tr>\n",
       "    <tr>\n",
       "      <th>...</th>\n",
       "      <td>...</td>\n",
       "      <td>...</td>\n",
       "      <td>...</td>\n",
       "      <td>...</td>\n",
       "      <td>...</td>\n",
       "    </tr>\n",
       "    <tr>\n",
       "      <th>145</th>\n",
       "      <td>6.700000</td>\n",
       "      <td>3.0</td>\n",
       "      <td>5.200000</td>\n",
       "      <td>2.300000</td>\n",
       "      <td>C</td>\n",
       "    </tr>\n",
       "    <tr>\n",
       "      <th>146</th>\n",
       "      <td>5.882243</td>\n",
       "      <td>2.5</td>\n",
       "      <td>3.844545</td>\n",
       "      <td>1.900000</td>\n",
       "      <td>C</td>\n",
       "    </tr>\n",
       "    <tr>\n",
       "      <th>147</th>\n",
       "      <td>6.500000</td>\n",
       "      <td>3.0</td>\n",
       "      <td>5.200000</td>\n",
       "      <td>2.000000</td>\n",
       "      <td>C</td>\n",
       "    </tr>\n",
       "    <tr>\n",
       "      <th>148</th>\n",
       "      <td>6.200000</td>\n",
       "      <td>3.4</td>\n",
       "      <td>3.844545</td>\n",
       "      <td>1.183784</td>\n",
       "      <td>C</td>\n",
       "    </tr>\n",
       "    <tr>\n",
       "      <th>149</th>\n",
       "      <td>5.900000</td>\n",
       "      <td>3.0</td>\n",
       "      <td>5.100000</td>\n",
       "      <td>1.183784</td>\n",
       "      <td>C</td>\n",
       "    </tr>\n",
       "  </tbody>\n",
       "</table>\n",
       "<p>150 rows × 5 columns</p>\n",
       "</div>"
      ],
      "text/plain": [
       "     sepal length (cm)  sepal width (cm)  petal length (cm)  petal width (cm)  \\\n",
       "0             5.100000               3.5           1.400000          1.183784   \n",
       "1             4.900000               3.0           1.400000          1.183784   \n",
       "2             5.882243               3.2           3.844545          1.183784   \n",
       "3             4.600000               3.1           1.500000          1.183784   \n",
       "4             5.882243               3.6           3.844545          0.200000   \n",
       "..                 ...               ...                ...               ...   \n",
       "145           6.700000               3.0           5.200000          2.300000   \n",
       "146           5.882243               2.5           3.844545          1.900000   \n",
       "147           6.500000               3.0           5.200000          2.000000   \n",
       "148           6.200000               3.4           3.844545          1.183784   \n",
       "149           5.900000               3.0           5.100000          1.183784   \n",
       "\n",
       "    target  \n",
       "0        A  \n",
       "1        A  \n",
       "2        C  \n",
       "3        C  \n",
       "4        A  \n",
       "..     ...  \n",
       "145      C  \n",
       "146      C  \n",
       "147      C  \n",
       "148      C  \n",
       "149      C  \n",
       "\n",
       "[150 rows x 5 columns]"
      ]
     },
     "execution_count": 5,
     "metadata": {},
     "output_type": "execute_result"
    }
   ],
   "source": [
    "# # data[data.select_dtypes(include='number').columns]\n",
    "\n",
    "# res"
   ]
  },
  {
   "cell_type": "code",
   "execution_count": 5,
   "metadata": {},
   "outputs": [],
   "source": [
    "dtypes = [\"numeric\", \"numeric\", \"numeric\", \"numeric\", \"categorical\"]\n",
    "cols = data.columns\n",
    "dtype_list = dict(zip(cols, dtypes))\n",
    "# data, dtype_list = format_dtypes(data, dtypes=dtypes, cols=cols)\n",
    "imp = XGBImputer(dtype_list=dtype_list, random_seed=42, verbose=0, cv=2)\n",
    "res = imp.impute(curr_df)\n"
   ]
  },
  {
   "cell_type": "code",
   "execution_count": 7,
   "metadata": {},
   "outputs": [],
   "source": []
  },
  {
   "cell_type": "code",
   "execution_count": null,
   "metadata": {},
   "outputs": [],
   "source": []
  },
  {
   "cell_type": "code",
   "execution_count": null,
   "metadata": {},
   "outputs": [],
   "source": []
  },
  {
   "cell_type": "code",
   "execution_count": null,
   "metadata": {},
   "outputs": [],
   "source": []
  },
  {
   "cell_type": "code",
   "execution_count": null,
   "metadata": {},
   "outputs": [],
   "source": []
  },
  {
   "cell_type": "code",
   "execution_count": null,
   "metadata": {},
   "outputs": [],
   "source": []
  }
 ],
 "metadata": {
  "interpreter": {
   "hash": "db1d983dafd083bf3e2591df4b05cff8242c9272e6d7473b27d3b53a7103024c"
  },
  "kernelspec": {
   "display_name": "Python 3.9.7 ('AutoImputer')",
   "language": "python",
   "name": "python3"
  },
  "language_info": {
   "codemirror_mode": {
    "name": "ipython",
    "version": 3
   },
   "file_extension": ".py",
   "mimetype": "text/x-python",
   "name": "python",
   "nbconvert_exporter": "python",
   "pygments_lexer": "ipython3",
   "version": "3.9.7"
  },
  "orig_nbformat": 4
 },
 "nbformat": 4,
 "nbformat_minor": 2
}
