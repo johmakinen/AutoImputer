{
 "cells": [
  {
   "cell_type": "code",
   "execution_count": 1,
   "metadata": {},
   "outputs": [],
   "source": [
    "from sklearn import datasets\n",
    "import pandas as pd\n",
    "import numpy as np\n",
    "# import some data to play with\n",
    "iris = datasets.load_iris()\n",
    "import random\n",
    "import os"
   ]
  },
  {
   "cell_type": "code",
   "execution_count": 2,
   "metadata": {},
   "outputs": [],
   "source": [
    "def get_test_data_single_col():\n",
    "    \"\"\"Creates test dataframes and imputes the missing values\"\"\"\n",
    "    test_set = []\n",
    "    for size in range(20,100,10):\n",
    "        col_names = list('ABCDEFGHIJKLMNOPQRSTUVWXYZ')[:10]\n",
    "        rand_col = random.choice(col_names)\n",
    "        curr_df = pd.DataFrame(np.random.randint(-50,100,size=(size,10)), columns=col_names)\n",
    "        curr_df.loc[curr_df.sample(np.random.randint(5,int(size*0.4)), random_state=32).index,rand_col] = np.nan\n",
    "        test_set.append((curr_df,rand_col,curr_df[rand_col].mean(skipna=True)))\n",
    "\n",
    "    # for i in range(test_n):\n",
    "    #     test_set.append((np.array(test_vectors[i,:],dtype='complex'),np.fft.fft(test_vectors[i,:]).reshape((-1,1))))\n",
    "    # return [(np.array(test_vectors[0,:],dtype='complex'),np.fft.fft(test_vectors[0,:]).reshape((-1,1)))]\n",
    "    return test_set"
   ]
  },
  {
   "cell_type": "code",
   "execution_count": 3,
   "metadata": {},
   "outputs": [
    {
     "data": {
      "text/plain": [
       "0.6050659657802516"
      ]
     },
     "execution_count": 3,
     "metadata": {},
     "output_type": "execute_result"
    }
   ],
   "source": [
    "from sklearn.impute import SimpleImputer\n",
    "from sklearn.metrics import mean_absolute_percentage_error,mean_squared_error\n",
    "import pandas as pd\n",
    "import numpy as np\n",
    "import random\n",
    "\n",
    "# x = get_test_data_single_col()\n",
    "# df = x[0][0]\n",
    "# curr_df = df.dropna(axis=0,how='any').copy()\n",
    "# path_project = os.path.abspath(\n",
    "# os.path.join(__file__, \"../..\"))\n",
    "# path_processed_data = +'/data/processed/'\n",
    "# path_raw_data = path_project+'/data/raw/'\n",
    "curr_df = pd.read_csv('..\\data\\processed\\iris_original.csv')\n",
    "\n",
    "class MySimpleImputer():\n",
    "    def __init__(self,target_col,**kwargs):\n",
    "        self.target_col = target_col\n",
    "        self.strategy = kwargs.get('strategy','mean')\n",
    "\n",
    "    def impute(self,df):\n",
    "        imp = SimpleImputer(missing_values=np.nan, strategy=self.strategy)\n",
    "        if self.target_col == 'ALL':\n",
    "            idf = pd.DataFrame(imp.fit_transform(df))\n",
    "            idf.columns = df.columns\n",
    "            idf.index = df.index\n",
    "        else:\n",
    "            idf = df.copy()\n",
    "            imp.fit(idf[self.target_col].values.reshape(-1, 1))\n",
    "            idf[self.target_col] = imp.transform(idf[self.target_col].values.reshape(-1, 1))\n",
    "        return idf\n",
    "imputer = MySimpleImputer(target_col='sepal length (cm)')        \n",
    "nans = curr_df.mask((np.random.random(curr_df.shape)<.4) & (curr_df.columns == imputer.target_col))\n",
    "target = curr_df[nans[imputer.target_col].isna()][imputer.target_col].values\n",
    "res = imputer.impute(nans)\n",
    "res_values = res[nans[imputer.target_col].isna()][imputer.target_col].values\n",
    "mean_squared_error(target,res_values,squared=True)"
   ]
  },
  {
   "cell_type": "code",
   "execution_count": 12,
   "metadata": {},
   "outputs": [],
   "source": [
    "cols = curr_df.columns\n",
    "cat_cols = ['target']"
   ]
  },
  {
   "cell_type": "code",
   "execution_count": 13,
   "metadata": {},
   "outputs": [
    {
     "data": {
      "text/plain": [
       "['numeric', 'numeric', 'numeric', 'numeric', 'categorical']"
      ]
     },
     "execution_count": 13,
     "metadata": {},
     "output_type": "execute_result"
    }
   ],
   "source": [
    "['numeric' if col not in cat_cols else 'categorical' for col in cols]"
   ]
  },
  {
   "cell_type": "code",
   "execution_count": null,
   "metadata": {},
   "outputs": [],
   "source": []
  },
  {
   "cell_type": "code",
   "execution_count": null,
   "metadata": {},
   "outputs": [],
   "source": []
  },
  {
   "cell_type": "code",
   "execution_count": 3,
   "metadata": {},
   "outputs": [],
   "source": [
    "x = get_test_data_single_col()\n",
    "df = x[0][0]\n",
    "curr_df = df.dropna(axis=0,how='any').copy()"
   ]
  },
  {
   "cell_type": "code",
   "execution_count": 4,
   "metadata": {},
   "outputs": [],
   "source": [
    "df = x[0][0]\n",
    "curr_df = df.dropna(axis=0,how='any').copy()"
   ]
  },
  {
   "cell_type": "code",
   "execution_count": 5,
   "metadata": {},
   "outputs": [
    {
     "data": {
      "text/plain": [
       "True"
      ]
     },
     "execution_count": 5,
     "metadata": {},
     "output_type": "execute_result"
    }
   ],
   "source": [
    "# df.empty\n",
    "# True if np.dtype('int32') in df.dtypes.tolist() else False\n",
    "# set(df.dtypes.tolist())\n",
    "# df.isnull().sum().sum()/(df.shape[0]*df.shape[1])\n",
    "\n",
    "True if np.dtype('object') not in set(df.dtypes.tolist()) else False"
   ]
  },
  {
   "cell_type": "code",
   "execution_count": 22,
   "metadata": {},
   "outputs": [],
   "source": [
    "curr_df = df.dropna(axis=0,how='any').copy()\n",
    "train = curr_df.loc[curr_df.sample(int(curr_df.shape[0]*0.8), random_state=32).index]\n",
    "test = curr_df[~curr_df.index.isin(train.index)]"
   ]
  },
  {
   "cell_type": "code",
   "execution_count": 34,
   "metadata": {},
   "outputs": [
    {
     "data": {
      "text/html": [
       "<div>\n",
       "<style scoped>\n",
       "    .dataframe tbody tr th:only-of-type {\n",
       "        vertical-align: middle;\n",
       "    }\n",
       "\n",
       "    .dataframe tbody tr th {\n",
       "        vertical-align: top;\n",
       "    }\n",
       "\n",
       "    .dataframe thead th {\n",
       "        text-align: right;\n",
       "    }\n",
       "</style>\n",
       "<table border=\"1\" class=\"dataframe\">\n",
       "  <thead>\n",
       "    <tr style=\"text-align: right;\">\n",
       "      <th></th>\n",
       "      <th>sepal length (cm)</th>\n",
       "      <th>sepal width (cm)</th>\n",
       "      <th>petal length (cm)</th>\n",
       "      <th>petal width (cm)</th>\n",
       "      <th>target</th>\n",
       "    </tr>\n",
       "  </thead>\n",
       "  <tbody>\n",
       "    <tr>\n",
       "      <th>0</th>\n",
       "      <td>5.1</td>\n",
       "      <td>3.5</td>\n",
       "      <td>1.4</td>\n",
       "      <td>0.2</td>\n",
       "      <td>0.0</td>\n",
       "    </tr>\n",
       "    <tr>\n",
       "      <th>1</th>\n",
       "      <td>4.9</td>\n",
       "      <td>3.0</td>\n",
       "      <td>1.4</td>\n",
       "      <td>0.2</td>\n",
       "      <td>0.0</td>\n",
       "    </tr>\n",
       "    <tr>\n",
       "      <th>2</th>\n",
       "      <td>4.7</td>\n",
       "      <td>3.2</td>\n",
       "      <td>1.3</td>\n",
       "      <td>0.2</td>\n",
       "      <td>0.0</td>\n",
       "    </tr>\n",
       "    <tr>\n",
       "      <th>3</th>\n",
       "      <td>4.6</td>\n",
       "      <td>3.1</td>\n",
       "      <td>1.5</td>\n",
       "      <td>0.2</td>\n",
       "      <td>0.0</td>\n",
       "    </tr>\n",
       "    <tr>\n",
       "      <th>4</th>\n",
       "      <td>5.0</td>\n",
       "      <td>3.6</td>\n",
       "      <td>1.4</td>\n",
       "      <td>0.2</td>\n",
       "      <td>0.0</td>\n",
       "    </tr>\n",
       "    <tr>\n",
       "      <th>...</th>\n",
       "      <td>...</td>\n",
       "      <td>...</td>\n",
       "      <td>...</td>\n",
       "      <td>...</td>\n",
       "      <td>...</td>\n",
       "    </tr>\n",
       "    <tr>\n",
       "      <th>145</th>\n",
       "      <td>6.7</td>\n",
       "      <td>3.0</td>\n",
       "      <td>5.2</td>\n",
       "      <td>2.3</td>\n",
       "      <td>2.0</td>\n",
       "    </tr>\n",
       "    <tr>\n",
       "      <th>146</th>\n",
       "      <td>6.3</td>\n",
       "      <td>2.5</td>\n",
       "      <td>5.0</td>\n",
       "      <td>1.9</td>\n",
       "      <td>2.0</td>\n",
       "    </tr>\n",
       "    <tr>\n",
       "      <th>147</th>\n",
       "      <td>6.5</td>\n",
       "      <td>3.0</td>\n",
       "      <td>5.2</td>\n",
       "      <td>2.0</td>\n",
       "      <td>2.0</td>\n",
       "    </tr>\n",
       "    <tr>\n",
       "      <th>148</th>\n",
       "      <td>6.2</td>\n",
       "      <td>3.4</td>\n",
       "      <td>5.4</td>\n",
       "      <td>2.3</td>\n",
       "      <td>2.0</td>\n",
       "    </tr>\n",
       "    <tr>\n",
       "      <th>149</th>\n",
       "      <td>5.9</td>\n",
       "      <td>3.0</td>\n",
       "      <td>5.1</td>\n",
       "      <td>1.8</td>\n",
       "      <td>2.0</td>\n",
       "    </tr>\n",
       "  </tbody>\n",
       "</table>\n",
       "<p>140 rows × 5 columns</p>\n",
       "</div>"
      ],
      "text/plain": [
       "     sepal length (cm)  sepal width (cm)  petal length (cm)  petal width (cm)  \\\n",
       "0                  5.1               3.5                1.4               0.2   \n",
       "1                  4.9               3.0                1.4               0.2   \n",
       "2                  4.7               3.2                1.3               0.2   \n",
       "3                  4.6               3.1                1.5               0.2   \n",
       "4                  5.0               3.6                1.4               0.2   \n",
       "..                 ...               ...                ...               ...   \n",
       "145                6.7               3.0                5.2               2.3   \n",
       "146                6.3               2.5                5.0               1.9   \n",
       "147                6.5               3.0                5.2               2.0   \n",
       "148                6.2               3.4                5.4               2.3   \n",
       "149                5.9               3.0                5.1               1.8   \n",
       "\n",
       "     target  \n",
       "0       0.0  \n",
       "1       0.0  \n",
       "2       0.0  \n",
       "3       0.0  \n",
       "4       0.0  \n",
       "..      ...  \n",
       "145     2.0  \n",
       "146     2.0  \n",
       "147     2.0  \n",
       "148     2.0  \n",
       "149     2.0  \n",
       "\n",
       "[140 rows x 5 columns]"
      ]
     },
     "execution_count": 34,
     "metadata": {},
     "output_type": "execute_result"
    }
   ],
   "source": [
    "curr_df"
   ]
  },
  {
   "cell_type": "code",
   "execution_count": 64,
   "metadata": {},
   "outputs": [
    {
     "data": {
      "text/plain": [
       "array([5.1, nan, 1.4, nan, 0. , nan, nan, 1.4, 0.2, 0. , 4.7, 3.2, nan,\n",
       "       0.2, 0. , 4.6, nan, 1.5, nan, nan, 5. , 3.6, nan, 0.2, 0. , 5.4,\n",
       "       3.9, nan, nan, nan, 4.6, nan, 1.4, 0.3, nan, 5. , nan, 1.5, 0.2,\n",
       "       nan, 4.4, nan, 1.4, nan, nan, nan, nan, nan, nan, nan, 5.4, 3.7,\n",
       "       1.5, 0.2, 0. , nan, 3.4, nan, 0.2, nan, nan, 3. , 1.4, nan, nan,\n",
       "       4.3, 3. , 1.1, 0.1, nan, 5.8, nan, nan, 0.2, 0. , 5.7, nan, 1.5,\n",
       "       0.4, 0. , 5.4, 3.9, nan, nan, 0. , 5.1, 3.5, nan, 0.3, 0. , 5.7,\n",
       "       3.8, nan, nan, nan, 5.1, 3.8, nan, nan, 0. , nan, nan, nan, 0.2,\n",
       "       0. , 4.8, nan, 1.9, 0.2, nan, 5. , nan, nan, nan, nan, 5.2, 3.5,\n",
       "       nan, nan, 0. , 5.2, 3.4, 1.4, nan, 0. , 4.7, nan, nan, 0.2, 0. ,\n",
       "       4.8, 3.1, 1.6, 0.2, nan, 5.4, 3.4, 1.5, 0.4, nan, 5.2, 4.1, 1.5,\n",
       "       nan, 0. , nan, nan, nan, 0.2, 0. , 5. , 3.2, 1.2, nan, 0. , nan,\n",
       "       nan, nan, nan, 0. , 4.9, nan, 1.4, 0.1, nan, nan, nan, 1.3, 0.2,\n",
       "       nan, 5.1, nan, 1.5, 0.2, 0. , 5. , 3.5, nan, nan, 0. , 4.5, nan,\n",
       "       1.3, 0.3, nan, 4.4, 3.2, 1.3, 0.2, 0. , nan, nan, nan, 0.6, 0. ,\n",
       "       nan, nan, 1.9, nan, 0. , 4.8, nan, 1.4, 0.3, 0. , 5.1, 3.8, 1.6,\n",
       "       0.2, 0. , nan, nan, nan, 0.2, 0. , 5.3, nan, 1.5, 0.2, 0. , nan,\n",
       "       3.3, nan, 0.2, 0. , nan, nan, 4.7, 1.4, 1. , nan, nan, 4.5, 1.5,\n",
       "       1. , 6.9, 3.1, 4.9, 1.5, 1. , 5.5, nan, 4. , 1.3, 1. , nan, nan,\n",
       "       nan, nan, nan, 4.9, 2.4, 3.3, 1. , nan, nan, 2.9, 4.6, 1.3, 1. ,\n",
       "       5.2, 2.7, 3.9, 1.4, 1. , nan, nan, 3.5, 1. , 1. , 5.9, 3. , 4.2,\n",
       "       1.5, nan, 6. , 2.2, 4. , 1. , 1. , 6.1, nan, 4.7, 1.4, nan, nan,\n",
       "       2.9, nan, 1.3, 1. , nan, 3.1, 4.4, 1.4, nan, 5.6, nan, nan, 1.5,\n",
       "       1. , nan, 2.7, 4.1, 1. , nan, 6.2, 2.2, 4.5, 1.5, 1. , nan, nan,\n",
       "       3.9, 1.1, 1. , nan, nan, 4.8, 1.8, nan, 6.1, nan, nan, 1.3, nan,\n",
       "       6.3, 2.5, 4.9, 1.5, nan, 6.1, 2.8, nan, nan, 1. , 6.4, 2.9, 4.3,\n",
       "       1.3, 1. , nan, 3. , nan, 1.4, 1. , nan, 2.8, 4.8, nan, nan, 6.7,\n",
       "       nan, 5. , nan, nan, nan, 2.9, 4.5, 1.5, 1. , 5.7, nan, 3.5, nan,\n",
       "       nan, 5.5, nan, 3.8, 1.1, 1. , nan, 2.4, 3.7, 1. , 1. , 5.8, 2.7,\n",
       "       nan, nan, nan, nan, 2.7, nan, 1.6, 1. , 5.4, nan, 4.5, 1.5, nan,\n",
       "       nan, 3.1, nan, nan, 1. , 6.3, 2.3, nan, 1.3, 1. , 5.6, 3. , 4.1,\n",
       "       1.3, 1. , nan, nan, 4. , 1.3, 1. , 5.5, 2.6, nan, nan, 1. , nan,\n",
       "       3. , nan, nan, 1. , 5.8, 2.6, nan, 1.2, 1. , nan, nan, 3.3, nan,\n",
       "       1. , 5.6, nan, nan, nan, nan, nan, 3. , 4.2, 1.2, nan, 5.7, 2.9,\n",
       "       4.2, nan, nan, 6.2, nan, nan, nan, 1. , 5.1, 2.5, nan, 1.1, nan,\n",
       "       5.7, 2.8, 4.1, nan, 1. , nan, nan, nan, 2.5, 2. , nan, 2.7, nan,\n",
       "       1.9, 2. , nan, nan, nan, nan, 2. , nan, 2.9, 5.6, nan, 2. , 6.5,\n",
       "       3. , 5.8, nan, 2. , 7.6, 3. , nan, 2.1, nan, nan, nan, 4.5, 1.7,\n",
       "       nan, 7.3, 2.9, 6.3, 1.8, nan, 6.7, nan, nan, nan, nan, 7.2, 3.6,\n",
       "       6.1, nan, nan, 6.5, 3.2, nan, 2. , nan, nan, 2.7, nan, 1.9, 2. ,\n",
       "       6.8, 3. , nan, 2.1, nan, nan, 2.5, nan, 2. , nan, 5.8, 2.8, 5.1,\n",
       "       2.4, 2. , nan, 3.2, 5.3, nan, 2. , 6.5, 3. , nan, nan, 2. , 7.7,\n",
       "       nan, nan, 2.2, 2. , nan, 2.6, 6.9, 2.3, nan, 6. , nan, 5. , 1.5,\n",
       "       2. , nan, nan, 5.7, 2.3, 2. , 5.6, nan, nan, nan, 2. , nan, nan,\n",
       "       6.7, 2. , 2. , nan, 2.7, 4.9, nan, nan, nan, nan, 5.7, nan, nan,\n",
       "       7.2, 3.2, 6. , 1.8, nan, 6.2, 2.8, 4.8, nan, 2. , 6.1, 3. , 4.9,\n",
       "       nan, 2. , 6.4, 2.8, 5.6, 2.1, nan, nan, nan, nan, nan, nan, nan,\n",
       "       nan, 6.1, nan, 2. , nan, nan, 5.6, nan, 2. , 6.3, nan, nan, 1.5,\n",
       "       2. , 7.7, nan, 6.1, 2.3, nan, 6.3, 3.4, 5.6, 2.4, 2. , 6.4, 3.1,\n",
       "       5.5, 1.8, nan, 6. , 3. , nan, nan, 2. , nan, 3.1, 5.4, 2.1, nan,\n",
       "       6.7, 3.1, 5.6, nan, 2. , 6.9, nan, nan, 2.3, 2. , nan, 2.7, nan,\n",
       "       1.9, nan, 6.8, 3.2, nan, 2.3, 2. , nan, nan, nan, 2.5, nan, nan,\n",
       "       nan, 5.2, 2.3, 2. , nan, 2.5, nan, nan, nan, 6.5, 3. , 5.2, nan,\n",
       "       2. , nan, nan, 5.4, 2.3, 2. , 5.9, nan, 5.1, nan, nan])"
      ]
     },
     "execution_count": 64,
     "metadata": {},
     "output_type": "execute_result"
    }
   ],
   "source": [
    "# np.random.random(curr_df.shape)\n",
    "nans = curr_df.mask(np.random.random(curr_df.shape)<.4)\n",
    "# nans = curr_df.mask((np.random.random(curr_df.shape)<.4) & (curr_df.columns == 'sepal length (cm)'))\n",
    "np.array(nans.to_numpy()).ravel()\n",
    "# curr_df[nans['sepal length (cm)'].isna()]\n",
    "# nans"
   ]
  },
  {
   "cell_type": "code",
   "execution_count": 7,
   "metadata": {},
   "outputs": [
    {
     "data": {
      "text/plain": [
       "array(['A', 'G'], dtype=object)"
      ]
     },
     "execution_count": 7,
     "metadata": {},
     "output_type": "execute_result"
    }
   ],
   "source": [
    "np.append(np.array(['A']),df.columns[df.isna().any()].values)"
   ]
  },
  {
   "cell_type": "code",
   "execution_count": 8,
   "metadata": {},
   "outputs": [],
   "source": [
    "df = pd.DataFrame(data= np.c_[iris['data'], iris['target']],\n",
    "                     columns= iris['feature_names'] + ['target'])"
   ]
  },
  {
   "cell_type": "code",
   "execution_count": 9,
   "metadata": {},
   "outputs": [
    {
     "data": {
      "text/html": [
       "<div>\n",
       "<style scoped>\n",
       "    .dataframe tbody tr th:only-of-type {\n",
       "        vertical-align: middle;\n",
       "    }\n",
       "\n",
       "    .dataframe tbody tr th {\n",
       "        vertical-align: top;\n",
       "    }\n",
       "\n",
       "    .dataframe thead th {\n",
       "        text-align: right;\n",
       "    }\n",
       "</style>\n",
       "<table border=\"1\" class=\"dataframe\">\n",
       "  <thead>\n",
       "    <tr style=\"text-align: right;\">\n",
       "      <th></th>\n",
       "      <th>sepal length (cm)</th>\n",
       "      <th>sepal width (cm)</th>\n",
       "      <th>petal length (cm)</th>\n",
       "      <th>petal width (cm)</th>\n",
       "      <th>target</th>\n",
       "    </tr>\n",
       "  </thead>\n",
       "  <tbody>\n",
       "    <tr>\n",
       "      <th>0</th>\n",
       "      <td>5.1</td>\n",
       "      <td>3.5</td>\n",
       "      <td>1.4</td>\n",
       "      <td>0.2</td>\n",
       "      <td>0.0</td>\n",
       "    </tr>\n",
       "    <tr>\n",
       "      <th>1</th>\n",
       "      <td>4.9</td>\n",
       "      <td>3.0</td>\n",
       "      <td>1.4</td>\n",
       "      <td>0.2</td>\n",
       "      <td>0.0</td>\n",
       "    </tr>\n",
       "    <tr>\n",
       "      <th>2</th>\n",
       "      <td>4.7</td>\n",
       "      <td>3.2</td>\n",
       "      <td>1.3</td>\n",
       "      <td>0.2</td>\n",
       "      <td>0.0</td>\n",
       "    </tr>\n",
       "    <tr>\n",
       "      <th>3</th>\n",
       "      <td>4.6</td>\n",
       "      <td>3.1</td>\n",
       "      <td>1.5</td>\n",
       "      <td>0.2</td>\n",
       "      <td>0.0</td>\n",
       "    </tr>\n",
       "    <tr>\n",
       "      <th>4</th>\n",
       "      <td>5.0</td>\n",
       "      <td>3.6</td>\n",
       "      <td>1.4</td>\n",
       "      <td>0.2</td>\n",
       "      <td>0.0</td>\n",
       "    </tr>\n",
       "    <tr>\n",
       "      <th>...</th>\n",
       "      <td>...</td>\n",
       "      <td>...</td>\n",
       "      <td>...</td>\n",
       "      <td>...</td>\n",
       "      <td>...</td>\n",
       "    </tr>\n",
       "    <tr>\n",
       "      <th>145</th>\n",
       "      <td>6.7</td>\n",
       "      <td>3.0</td>\n",
       "      <td>5.2</td>\n",
       "      <td>2.3</td>\n",
       "      <td>2.0</td>\n",
       "    </tr>\n",
       "    <tr>\n",
       "      <th>146</th>\n",
       "      <td>6.3</td>\n",
       "      <td>2.5</td>\n",
       "      <td>5.0</td>\n",
       "      <td>1.9</td>\n",
       "      <td>2.0</td>\n",
       "    </tr>\n",
       "    <tr>\n",
       "      <th>147</th>\n",
       "      <td>6.5</td>\n",
       "      <td>3.0</td>\n",
       "      <td>5.2</td>\n",
       "      <td>2.0</td>\n",
       "      <td>2.0</td>\n",
       "    </tr>\n",
       "    <tr>\n",
       "      <th>148</th>\n",
       "      <td>6.2</td>\n",
       "      <td>3.4</td>\n",
       "      <td>5.4</td>\n",
       "      <td>2.3</td>\n",
       "      <td>2.0</td>\n",
       "    </tr>\n",
       "    <tr>\n",
       "      <th>149</th>\n",
       "      <td>5.9</td>\n",
       "      <td>3.0</td>\n",
       "      <td>5.1</td>\n",
       "      <td>1.8</td>\n",
       "      <td>2.0</td>\n",
       "    </tr>\n",
       "  </tbody>\n",
       "</table>\n",
       "<p>150 rows × 5 columns</p>\n",
       "</div>"
      ],
      "text/plain": [
       "     sepal length (cm)  sepal width (cm)  petal length (cm)  petal width (cm)  \\\n",
       "0                  5.1               3.5                1.4               0.2   \n",
       "1                  4.9               3.0                1.4               0.2   \n",
       "2                  4.7               3.2                1.3               0.2   \n",
       "3                  4.6               3.1                1.5               0.2   \n",
       "4                  5.0               3.6                1.4               0.2   \n",
       "..                 ...               ...                ...               ...   \n",
       "145                6.7               3.0                5.2               2.3   \n",
       "146                6.3               2.5                5.0               1.9   \n",
       "147                6.5               3.0                5.2               2.0   \n",
       "148                6.2               3.4                5.4               2.3   \n",
       "149                5.9               3.0                5.1               1.8   \n",
       "\n",
       "     target  \n",
       "0       0.0  \n",
       "1       0.0  \n",
       "2       0.0  \n",
       "3       0.0  \n",
       "4       0.0  \n",
       "..      ...  \n",
       "145     2.0  \n",
       "146     2.0  \n",
       "147     2.0  \n",
       "148     2.0  \n",
       "149     2.0  \n",
       "\n",
       "[150 rows x 5 columns]"
      ]
     },
     "execution_count": 9,
     "metadata": {},
     "output_type": "execute_result"
    }
   ],
   "source": [
    "df"
   ]
  },
  {
   "cell_type": "code",
   "execution_count": 10,
   "metadata": {},
   "outputs": [],
   "source": [
    "# df[np.random.randint():'sepal length (cm)']\n",
    "df.loc[df.sample(10, random_state=32).index,'sepal length (cm)'] = np.nan"
   ]
  },
  {
   "cell_type": "code",
   "execution_count": 11,
   "metadata": {},
   "outputs": [
    {
     "data": {
      "text/html": [
       "<div>\n",
       "<style scoped>\n",
       "    .dataframe tbody tr th:only-of-type {\n",
       "        vertical-align: middle;\n",
       "    }\n",
       "\n",
       "    .dataframe tbody tr th {\n",
       "        vertical-align: top;\n",
       "    }\n",
       "\n",
       "    .dataframe thead th {\n",
       "        text-align: right;\n",
       "    }\n",
       "</style>\n",
       "<table border=\"1\" class=\"dataframe\">\n",
       "  <thead>\n",
       "    <tr style=\"text-align: right;\">\n",
       "      <th></th>\n",
       "      <th>sepal length (cm)</th>\n",
       "      <th>sepal width (cm)</th>\n",
       "      <th>petal length (cm)</th>\n",
       "      <th>petal width (cm)</th>\n",
       "      <th>target</th>\n",
       "    </tr>\n",
       "  </thead>\n",
       "  <tbody>\n",
       "    <tr>\n",
       "      <th>0</th>\n",
       "      <td>5.1</td>\n",
       "      <td>3.5</td>\n",
       "      <td>1.4</td>\n",
       "      <td>0.2</td>\n",
       "      <td>0.0</td>\n",
       "    </tr>\n",
       "    <tr>\n",
       "      <th>1</th>\n",
       "      <td>4.9</td>\n",
       "      <td>3.0</td>\n",
       "      <td>1.4</td>\n",
       "      <td>0.2</td>\n",
       "      <td>0.0</td>\n",
       "    </tr>\n",
       "    <tr>\n",
       "      <th>2</th>\n",
       "      <td>4.7</td>\n",
       "      <td>3.2</td>\n",
       "      <td>1.3</td>\n",
       "      <td>0.2</td>\n",
       "      <td>0.0</td>\n",
       "    </tr>\n",
       "    <tr>\n",
       "      <th>3</th>\n",
       "      <td>4.6</td>\n",
       "      <td>3.1</td>\n",
       "      <td>1.5</td>\n",
       "      <td>0.2</td>\n",
       "      <td>0.0</td>\n",
       "    </tr>\n",
       "    <tr>\n",
       "      <th>4</th>\n",
       "      <td>5.0</td>\n",
       "      <td>3.6</td>\n",
       "      <td>1.4</td>\n",
       "      <td>0.2</td>\n",
       "      <td>0.0</td>\n",
       "    </tr>\n",
       "    <tr>\n",
       "      <th>...</th>\n",
       "      <td>...</td>\n",
       "      <td>...</td>\n",
       "      <td>...</td>\n",
       "      <td>...</td>\n",
       "      <td>...</td>\n",
       "    </tr>\n",
       "    <tr>\n",
       "      <th>145</th>\n",
       "      <td>6.7</td>\n",
       "      <td>3.0</td>\n",
       "      <td>5.2</td>\n",
       "      <td>2.3</td>\n",
       "      <td>2.0</td>\n",
       "    </tr>\n",
       "    <tr>\n",
       "      <th>146</th>\n",
       "      <td>6.3</td>\n",
       "      <td>2.5</td>\n",
       "      <td>5.0</td>\n",
       "      <td>1.9</td>\n",
       "      <td>2.0</td>\n",
       "    </tr>\n",
       "    <tr>\n",
       "      <th>147</th>\n",
       "      <td>6.5</td>\n",
       "      <td>3.0</td>\n",
       "      <td>5.2</td>\n",
       "      <td>2.0</td>\n",
       "      <td>2.0</td>\n",
       "    </tr>\n",
       "    <tr>\n",
       "      <th>148</th>\n",
       "      <td>6.2</td>\n",
       "      <td>3.4</td>\n",
       "      <td>5.4</td>\n",
       "      <td>2.3</td>\n",
       "      <td>2.0</td>\n",
       "    </tr>\n",
       "    <tr>\n",
       "      <th>149</th>\n",
       "      <td>5.9</td>\n",
       "      <td>3.0</td>\n",
       "      <td>5.1</td>\n",
       "      <td>1.8</td>\n",
       "      <td>2.0</td>\n",
       "    </tr>\n",
       "  </tbody>\n",
       "</table>\n",
       "<p>140 rows × 5 columns</p>\n",
       "</div>"
      ],
      "text/plain": [
       "     sepal length (cm)  sepal width (cm)  petal length (cm)  petal width (cm)  \\\n",
       "0                  5.1               3.5                1.4               0.2   \n",
       "1                  4.9               3.0                1.4               0.2   \n",
       "2                  4.7               3.2                1.3               0.2   \n",
       "3                  4.6               3.1                1.5               0.2   \n",
       "4                  5.0               3.6                1.4               0.2   \n",
       "..                 ...               ...                ...               ...   \n",
       "145                6.7               3.0                5.2               2.3   \n",
       "146                6.3               2.5                5.0               1.9   \n",
       "147                6.5               3.0                5.2               2.0   \n",
       "148                6.2               3.4                5.4               2.3   \n",
       "149                5.9               3.0                5.1               1.8   \n",
       "\n",
       "     target  \n",
       "0       0.0  \n",
       "1       0.0  \n",
       "2       0.0  \n",
       "3       0.0  \n",
       "4       0.0  \n",
       "..      ...  \n",
       "145     2.0  \n",
       "146     2.0  \n",
       "147     2.0  \n",
       "148     2.0  \n",
       "149     2.0  \n",
       "\n",
       "[140 rows x 5 columns]"
      ]
     },
     "execution_count": 11,
     "metadata": {},
     "output_type": "execute_result"
    }
   ],
   "source": [
    "df[~pd.isnull(df).any(axis=1)]"
   ]
  },
  {
   "cell_type": "code",
   "execution_count": 12,
   "metadata": {},
   "outputs": [],
   "source": [
    "from sklearn.impute import SimpleImputer\n",
    "imp_mean = SimpleImputer(missing_values=np.nan, strategy='mean')\n",
    "\n",
    "imp_mean.fit(df[~pd.isnull(df).any(axis=1)])\n",
    "X = df[pd.isnull(df).any(axis=1)]\n",
    "res = imp_mean.transform(X)"
   ]
  },
  {
   "cell_type": "code",
   "execution_count": 13,
   "metadata": {},
   "outputs": [
    {
     "data": {
      "text/plain": [
       "Int64Index([21, 22, 23, 26, 34, 55, 56, 85, 131, 134], dtype='int64')"
      ]
     },
     "execution_count": 13,
     "metadata": {},
     "output_type": "execute_result"
    }
   ],
   "source": [
    "df[pd.isnull(df).any(axis=1)].index"
   ]
  },
  {
   "cell_type": "code",
   "execution_count": null,
   "metadata": {},
   "outputs": [],
   "source": []
  },
  {
   "cell_type": "code",
   "execution_count": null,
   "metadata": {},
   "outputs": [],
   "source": []
  },
  {
   "cell_type": "code",
   "execution_count": 14,
   "metadata": {},
   "outputs": [
    {
     "ename": "AttributeError",
     "evalue": "'NoneType' object has no attribute 'add'",
     "output_type": "error",
     "traceback": [
      "\u001b[1;31m---------------------------------------------------------------------------\u001b[0m",
      "\u001b[1;31mAttributeError\u001b[0m                            Traceback (most recent call last)",
      "\u001b[1;32mc:\\Users\\johma\\Desktop\\main\\4fun\\AutoImputer\\notebooks\\nb_POC.ipynb Cell 17'\u001b[0m in \u001b[0;36m<cell line: 2>\u001b[1;34m()\u001b[0m\n\u001b[0;32m      <a href='vscode-notebook-cell:/c%3A/Users/johma/Desktop/main/4fun/AutoImputer/notebooks/nb_POC.ipynb#ch0000016?line=0'>1</a>\u001b[0m x \u001b[39m=\u001b[39m \u001b[39mset\u001b[39m()\u001b[39m.\u001b[39madd(\u001b[39m'\u001b[39m\u001b[39mall\u001b[39m\u001b[39m'\u001b[39m)\n\u001b[1;32m----> <a href='vscode-notebook-cell:/c%3A/Users/johma/Desktop/main/4fun/AutoImputer/notebooks/nb_POC.ipynb#ch0000016?line=1'>2</a>\u001b[0m x\u001b[39m.\u001b[39;49madd(\u001b[39m'\u001b[39m\u001b[39mall\u001b[39m\u001b[39m'\u001b[39m)\n",
      "\u001b[1;31mAttributeError\u001b[0m: 'NoneType' object has no attribute 'add'"
     ]
    }
   ],
   "source": [
    "x = set().add('all')\n",
    "x.add('all')"
   ]
  },
  {
   "cell_type": "code",
   "execution_count": null,
   "metadata": {},
   "outputs": [
    {
     "data": {
      "text/plain": [
       "{'all',\n",
       " 'petal length (cm)',\n",
       " 'petal width (cm)',\n",
       " 'sepal length (cm)',\n",
       " 'sepal width (cm)',\n",
       " 'target'}"
      ]
     },
     "execution_count": 27,
     "metadata": {},
     "output_type": "execute_result"
    }
   ],
   "source": [
    "x"
   ]
  }
 ],
 "metadata": {
  "interpreter": {
   "hash": "db1d983dafd083bf3e2591df4b05cff8242c9272e6d7473b27d3b53a7103024c"
  },
  "kernelspec": {
   "display_name": "Python 3.9.7 ('AutoImputer')",
   "language": "python",
   "name": "python3"
  },
  "language_info": {
   "codemirror_mode": {
    "name": "ipython",
    "version": 3
   },
   "file_extension": ".py",
   "mimetype": "text/x-python",
   "name": "python",
   "nbconvert_exporter": "python",
   "pygments_lexer": "ipython3",
   "version": "3.9.7"
  },
  "orig_nbformat": 4
 },
 "nbformat": 4,
 "nbformat_minor": 2
}
